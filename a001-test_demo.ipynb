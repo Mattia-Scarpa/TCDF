{
 "cells": [
  {
   "cell_type": "markdown",
   "id": "33e385d2",
   "metadata": {},
   "source": [
    "### Test with normalized dataset"
   ]
  },
  {
   "cell_type": "code",
   "execution_count": 1,
   "id": "c0f071af",
   "metadata": {},
   "outputs": [
    {
     "name": "stdout",
     "output_type": "stream",
     "text": [
      "Arguments: Namespace(cuda=True, epochs=20000, kernel_size=10, hidden_layers=2, learning_rate=0.0001, optimizer='RMSprop', log_interval=500, seed=1111, dilation_coefficient=10, significance=0.9, plot=True, ground_truth=None, data=['EM_data_norm/dataset_8_s1_norm.csv', 'EM_data_norm/dataset_18_s1_norm.csv', 'EM_data_norm/dataset_58_s1_norm.csv', 'EM_data_norm/dataset_13_s1_norm.csv', 'EM_data_norm/dataset_27_s1_norm.csv', 'EM_data_norm/dataset_64_s1_norm.csv', 'EM_data_norm/dataset_56_s1_norm.csv', 'EM_data_norm/dataset_49_s1_norm.csv', 'EM_data_norm/dataset_67_s1_norm.csv', 'EM_data_norm/dataset_74_s1_norm.csv', 'EM_data_norm/dataset_30_s1_norm.csv', 'EM_data_norm/dataset_19_s1_norm.csv', 'EM_data_norm/dataset_11_s1_norm.csv', 'EM_data_norm/dataset_79_s1_norm.csv', 'EM_data_norm/dataset_78_s1_norm.csv', 'EM_data_norm/dataset_65_s1_norm.csv', 'EM_data_norm/dataset_2_s1_norm.csv', 'EM_data_norm/dataset_73_s1_norm.csv', 'EM_data_norm/dataset_76_s1_norm.csv', 'EM_data_norm/dataset_53_s1_norm.csv', 'EM_data_norm/dataset_75_s1_norm.csv', 'EM_data_norm/dataset_16_s1_norm.csv', 'EM_data_norm/dataset_62_s1_norm.csv', 'EM_data_norm/dataset_3_s1_norm.csv', 'EM_data_norm/dataset_12_s1_norm.csv', 'EM_data_norm/dataset_9_s1_norm.csv', 'EM_data_norm/dataset_31_s1_norm.csv', 'EM_data_norm/dataset_29_s1_norm.csv', 'EM_data_norm/dataset_66_s1_norm.csv', 'EM_data_norm/dataset_63_s1_norm.csv', 'EM_data_norm/dataset_20_s1_norm.csv', 'EM_data_norm/dataset_50_s1_norm.csv', 'EM_data_norm/dataset_51_s1_norm.csv', 'EM_data_norm/dataset_68_s1_norm.csv', 'EM_data_norm/dataset_4_s1_norm.csv', 'EM_data_norm/dataset_42_s1_norm.csv', 'EM_data_norm/dataset_10_s1_norm.csv', 'EM_data_norm/dataset_80_s1_norm.csv', 'EM_data_norm/dataset_46_s1_norm.csv', 'EM_data_norm/dataset_59_s1_norm.csv', 'EM_data_norm/dataset_70_s1_norm.csv', 'EM_data_norm/dataset_81_s1_norm.csv', 'EM_data_norm/dataset_14_s1_norm.csv', 'EM_data_norm/dataset_71_s1_norm.csv', 'EM_data_norm/dataset_43_s1_norm.csv', 'EM_data_norm/dataset_26_s1_norm.csv', 'EM_data_norm/dataset_32_s1_norm.csv', 'EM_data_norm/dataset_23_s1_norm.csv', 'EM_data_norm/dataset_61_s1_norm.csv', 'EM_data_norm/dataset_52_s1_norm.csv', 'EM_data_norm/dataset_45_s1_norm.csv', 'EM_data_norm/dataset_54_s1_norm.csv', 'EM_data_norm/dataset_47_s1_norm.csv', 'EM_data_norm/dataset_57_s1_norm.csv', 'EM_data_norm/dataset_55_s1_norm.csv', 'EM_data_norm/dataset_6_s1_norm.csv', 'EM_data_norm/dataset_36_s1_norm.csv', 'EM_data_norm/dataset_48_s1_norm.csv', 'EM_data_norm/dataset_69_s1_norm.csv', 'EM_data_norm/dataset_24_s1_norm.csv', 'EM_data_norm/dataset_5_s1_norm.csv', 'EM_data_norm/dataset_15_s1_norm.csv', 'EM_data_norm/dataset_21_s1_norm.csv', 'EM_data_norm/dataset_7_s1_norm.csv', 'EM_data_norm/dataset_44_s1_norm.csv', 'EM_data_norm/dataset_60_s1_norm.csv', 'EM_data_norm/dataset_41_s1_norm.csv', 'EM_data_norm/dataset_72_s1_norm.csv', 'EM_data_norm/dataset_17_s1_norm.csv'])\n",
      "\n",
      " Dataset:  dataset_8_s1_norm.csv\n",
      "\n",
      " Analysis started for target:  u_q\n",
      "Epoch:  1 [0%] \tLoss: 4.4515e-01\n",
      "Epoch: 500 [2%] \tLoss: 2.1778e-03\n",
      "Epoch: 1000 [5%] \tLoss: 1.7357e-03\n",
      "Epoch: 1500 [8%] \tLoss: 1.0968e-03\n",
      "Epoch: 2000 [10%] \tLoss: 2.7744e-04\n",
      "Epoch: 2500 [12%] \tLoss: 1.7934e-04\n",
      "Epoch: 3000 [15%] \tLoss: 1.6759e-04\n",
      "Epoch: 3500 [18%] \tLoss: 1.5716e-04\n",
      "Epoch: 4000 [20%] \tLoss: 1.4768e-04\n",
      "Epoch: 4500 [22%] \tLoss: 1.3894e-04\n",
      "Epoch: 5000 [25%] \tLoss: 1.3080e-04\n",
      "Epoch: 5500 [28%] \tLoss: 1.2321e-04\n"
     ]
    },
    {
     "ename": "KeyboardInterrupt",
     "evalue": "",
     "output_type": "error",
     "traceback": [
      "\u001b[31m---------------------------------------------------------------------------\u001b[39m",
      "\u001b[31mKeyboardInterrupt\u001b[39m                         Traceback (most recent call last)",
      "\u001b[36mFile \u001b[39m\u001b[32m~/Documents/Lectures/Applied_Causal_Inference_Course-main/TCDF/TCDF-EM/runTCDF.py:340\u001b[39m\n\u001b[32m    338\u001b[39m \u001b[38;5;28;01mfor\u001b[39;00m dataset \u001b[38;5;129;01min\u001b[39;00m args.data:\n\u001b[32m    339\u001b[39m     datafiles[dataset]=\u001b[33m\"\u001b[39m\u001b[33m\"\u001b[39m\n\u001b[32m--> \u001b[39m\u001b[32m340\u001b[39m \u001b[43mmain\u001b[49m\u001b[43m(\u001b[49m\u001b[43mdatafiles\u001b[49m\u001b[43m,\u001b[49m\u001b[43m \u001b[49m\u001b[43mevaluation\u001b[49m\u001b[43m=\u001b[49m\u001b[38;5;28;43;01mFalse\u001b[39;49;00m\u001b[43m)\u001b[49m\n",
      "\u001b[36mFile \u001b[39m\u001b[32m~/Documents/Lectures/Applied_Causal_Inference_Course-main/TCDF/TCDF-EM/runTCDF.py:252\u001b[39m, in \u001b[36mmain\u001b[39m\u001b[34m(datafiles, evaluation)\u001b[39m\n\u001b[32m    249\u001b[39m \u001b[38;5;28mprint\u001b[39m(\u001b[33m\"\u001b[39m\u001b[38;5;130;01m\\n\u001b[39;00m\u001b[33m Dataset: \u001b[39m\u001b[33m\"\u001b[39m, stringdatafile)\n\u001b[32m    251\u001b[39m \u001b[38;5;66;03m# run TCDF\u001b[39;00m\n\u001b[32m--> \u001b[39m\u001b[32m252\u001b[39m allcauses, alldelays, allreallosses, allscores, columns = \u001b[43mrunTCDF\u001b[49m\u001b[43m(\u001b[49m\u001b[43mdatafile\u001b[49m\u001b[43m)\u001b[49m \u001b[38;5;66;03m#results of TCDF containing indices of causes and effects\u001b[39;00m\n\u001b[32m    254\u001b[39m \u001b[38;5;28mprint\u001b[39m(\u001b[33m\"\u001b[39m\u001b[38;5;130;01m\\n\u001b[39;00m\u001b[33m===================Results for\u001b[39m\u001b[33m\"\u001b[39m, stringdatafile,\u001b[33m\"\u001b[39m\u001b[33m==================================\u001b[39m\u001b[33m\"\u001b[39m)\n\u001b[32m    255\u001b[39m \u001b[38;5;28;01mfor\u001b[39;00m pair \u001b[38;5;129;01min\u001b[39;00m alldelays:\n",
      "\u001b[36mFile \u001b[39m\u001b[32m~/Documents/Lectures/Applied_Causal_Inference_Course-main/TCDF/TCDF-EM/runTCDF.py:201\u001b[39m, in \u001b[36mrunTCDF\u001b[39m\u001b[34m(datafile)\u001b[39m\n\u001b[32m    199\u001b[39m \u001b[38;5;28;01mfor\u001b[39;00m c \u001b[38;5;129;01min\u001b[39;00m columns:\n\u001b[32m    200\u001b[39m     idx = df_data.columns.get_loc(c)\n\u001b[32m--> \u001b[39m\u001b[32m201\u001b[39m     causes, causeswithdelay, realloss, scores = \u001b[43mTCDF\u001b[49m\u001b[43m.\u001b[49m\u001b[43mfindcauses\u001b[49m\u001b[43m(\u001b[49m\u001b[43mc\u001b[49m\u001b[43m,\u001b[49m\u001b[43m \u001b[49m\u001b[43mcuda\u001b[49m\u001b[43m=\u001b[49m\u001b[43mcuda\u001b[49m\u001b[43m,\u001b[49m\u001b[43m \u001b[49m\u001b[43mepochs\u001b[49m\u001b[43m=\u001b[49m\u001b[43mnrepochs\u001b[49m\u001b[43m,\u001b[49m\u001b[43m \u001b[49m\n\u001b[32m    202\u001b[39m \u001b[43m    \u001b[49m\u001b[43mkernel_size\u001b[49m\u001b[43m=\u001b[49m\u001b[43mkernel_size\u001b[49m\u001b[43m,\u001b[49m\u001b[43m \u001b[49m\u001b[43mlayers\u001b[49m\u001b[43m=\u001b[49m\u001b[43mlevels\u001b[49m\u001b[43m,\u001b[49m\u001b[43m \u001b[49m\u001b[43mlog_interval\u001b[49m\u001b[43m=\u001b[49m\u001b[43mloginterval\u001b[49m\u001b[43m,\u001b[49m\u001b[43m \u001b[49m\n\u001b[32m    203\u001b[39m \u001b[43m    \u001b[49m\u001b[43mlr\u001b[49m\u001b[43m=\u001b[49m\u001b[43mlearningrate\u001b[49m\u001b[43m,\u001b[49m\u001b[43m \u001b[49m\u001b[43moptimizername\u001b[49m\u001b[43m=\u001b[49m\u001b[43moptimizername\u001b[49m\u001b[43m,\u001b[49m\n\u001b[32m    204\u001b[39m \u001b[43m    \u001b[49m\u001b[43mseed\u001b[49m\u001b[43m=\u001b[49m\u001b[43mseed\u001b[49m\u001b[43m,\u001b[49m\u001b[43m \u001b[49m\u001b[43mdilation_c\u001b[49m\u001b[43m=\u001b[49m\u001b[43mdilation_c\u001b[49m\u001b[43m,\u001b[49m\u001b[43m \u001b[49m\u001b[43msignificance\u001b[49m\u001b[43m=\u001b[49m\u001b[43msignificance\u001b[49m\u001b[43m,\u001b[49m\u001b[43m \u001b[49m\u001b[43mfile\u001b[49m\u001b[43m=\u001b[49m\u001b[43mdatafile\u001b[49m\u001b[43m)\u001b[49m\n\u001b[32m    206\u001b[39m     allscores[idx]=scores\n\u001b[32m    207\u001b[39m     allcauses[idx]=causes\n",
      "\u001b[36mFile \u001b[39m\u001b[32m~/Documents/Lectures/Applied_Causal_Inference_Course-main/TCDF/TCDF-EM/TCDF.py:78\u001b[39m, in \u001b[36mfindcauses\u001b[39m\u001b[34m(target, cuda, epochs, kernel_size, layers, log_interval, lr, optimizername, seed, dilation_c, significance, file)\u001b[39m\n\u001b[32m     76\u001b[39m firstloss = firstloss.cpu().data.item()\n\u001b[32m     77\u001b[39m \u001b[38;5;28;01mfor\u001b[39;00m ep \u001b[38;5;129;01min\u001b[39;00m \u001b[38;5;28mrange\u001b[39m(\u001b[32m2\u001b[39m, epochs+\u001b[32m1\u001b[39m):\n\u001b[32m---> \u001b[39m\u001b[32m78\u001b[39m     scores, realloss = \u001b[43mtrain\u001b[49m\u001b[43m(\u001b[49m\u001b[43mep\u001b[49m\u001b[43m,\u001b[49m\u001b[43m \u001b[49m\u001b[43mX_train\u001b[49m\u001b[43m,\u001b[49m\u001b[43m \u001b[49m\u001b[43mY_train\u001b[49m\u001b[43m,\u001b[49m\u001b[43m \u001b[49m\u001b[43mmodel\u001b[49m\u001b[43m,\u001b[49m\u001b[43m \u001b[49m\u001b[43moptimizer\u001b[49m\u001b[43m,\u001b[49m\u001b[43mlog_interval\u001b[49m\u001b[43m,\u001b[49m\u001b[43mepochs\u001b[49m\u001b[43m)\u001b[49m\n\u001b[32m     79\u001b[39m     \u001b[38;5;28;01mif\u001b[39;00m ep == \u001b[32m10\u001b[39m:\n\u001b[32m     80\u001b[39m         firstloss = realloss.cpu().data.item()\n",
      "\u001b[36mFile \u001b[39m\u001b[32m~/Documents/Lectures/Applied_Causal_Inference_Course-main/TCDF/TCDF-EM/TCDF.py:44\u001b[39m, in \u001b[36mtrain\u001b[39m\u001b[34m(epoch, traindata, traintarget, modelname, optimizer, log_interval, epochs)\u001b[39m\n\u001b[32m     41\u001b[39m attentionscores = modelname.fs_attention\n\u001b[32m     43\u001b[39m loss = F.mse_loss(output, y)\n\u001b[32m---> \u001b[39m\u001b[32m44\u001b[39m \u001b[43mloss\u001b[49m\u001b[43m.\u001b[49m\u001b[43mbackward\u001b[49m\u001b[43m(\u001b[49m\u001b[43m)\u001b[49m\n\u001b[32m     45\u001b[39m optimizer.step()\n\u001b[32m     47\u001b[39m \u001b[38;5;28;01mif\u001b[39;00m epoch % log_interval ==\u001b[32m0\u001b[39m \u001b[38;5;129;01mor\u001b[39;00m epoch % epochs == \u001b[32m0\u001b[39m \u001b[38;5;129;01mor\u001b[39;00m epoch==\u001b[32m1\u001b[39m:\n",
      "\u001b[36mFile \u001b[39m\u001b[32m~/anaconda3/envs/jax/lib/python3.12/site-packages/torch/_tensor.py:626\u001b[39m, in \u001b[36mTensor.backward\u001b[39m\u001b[34m(self, gradient, retain_graph, create_graph, inputs)\u001b[39m\n\u001b[32m    616\u001b[39m \u001b[38;5;28;01mif\u001b[39;00m has_torch_function_unary(\u001b[38;5;28mself\u001b[39m):\n\u001b[32m    617\u001b[39m     \u001b[38;5;28;01mreturn\u001b[39;00m handle_torch_function(\n\u001b[32m    618\u001b[39m         Tensor.backward,\n\u001b[32m    619\u001b[39m         (\u001b[38;5;28mself\u001b[39m,),\n\u001b[32m   (...)\u001b[39m\u001b[32m    624\u001b[39m         inputs=inputs,\n\u001b[32m    625\u001b[39m     )\n\u001b[32m--> \u001b[39m\u001b[32m626\u001b[39m \u001b[43mtorch\u001b[49m\u001b[43m.\u001b[49m\u001b[43mautograd\u001b[49m\u001b[43m.\u001b[49m\u001b[43mbackward\u001b[49m\u001b[43m(\u001b[49m\n\u001b[32m    627\u001b[39m \u001b[43m    \u001b[49m\u001b[38;5;28;43mself\u001b[39;49m\u001b[43m,\u001b[49m\u001b[43m \u001b[49m\u001b[43mgradient\u001b[49m\u001b[43m,\u001b[49m\u001b[43m \u001b[49m\u001b[43mretain_graph\u001b[49m\u001b[43m,\u001b[49m\u001b[43m \u001b[49m\u001b[43mcreate_graph\u001b[49m\u001b[43m,\u001b[49m\u001b[43m \u001b[49m\u001b[43minputs\u001b[49m\u001b[43m=\u001b[49m\u001b[43minputs\u001b[49m\n\u001b[32m    628\u001b[39m \u001b[43m\u001b[49m\u001b[43m)\u001b[49m\n",
      "\u001b[36mFile \u001b[39m\u001b[32m~/anaconda3/envs/jax/lib/python3.12/site-packages/torch/autograd/__init__.py:347\u001b[39m, in \u001b[36mbackward\u001b[39m\u001b[34m(tensors, grad_tensors, retain_graph, create_graph, grad_variables, inputs)\u001b[39m\n\u001b[32m    342\u001b[39m     retain_graph = create_graph\n\u001b[32m    344\u001b[39m \u001b[38;5;66;03m# The reason we repeat the same comment below is that\u001b[39;00m\n\u001b[32m    345\u001b[39m \u001b[38;5;66;03m# some Python versions print out the first line of a multi-line function\u001b[39;00m\n\u001b[32m    346\u001b[39m \u001b[38;5;66;03m# calls in the traceback and some print out the last line\u001b[39;00m\n\u001b[32m--> \u001b[39m\u001b[32m347\u001b[39m \u001b[43m_engine_run_backward\u001b[49m\u001b[43m(\u001b[49m\n\u001b[32m    348\u001b[39m \u001b[43m    \u001b[49m\u001b[43mtensors\u001b[49m\u001b[43m,\u001b[49m\n\u001b[32m    349\u001b[39m \u001b[43m    \u001b[49m\u001b[43mgrad_tensors_\u001b[49m\u001b[43m,\u001b[49m\n\u001b[32m    350\u001b[39m \u001b[43m    \u001b[49m\u001b[43mretain_graph\u001b[49m\u001b[43m,\u001b[49m\n\u001b[32m    351\u001b[39m \u001b[43m    \u001b[49m\u001b[43mcreate_graph\u001b[49m\u001b[43m,\u001b[49m\n\u001b[32m    352\u001b[39m \u001b[43m    \u001b[49m\u001b[43minputs\u001b[49m\u001b[43m,\u001b[49m\n\u001b[32m    353\u001b[39m \u001b[43m    \u001b[49m\u001b[43mallow_unreachable\u001b[49m\u001b[43m=\u001b[49m\u001b[38;5;28;43;01mTrue\u001b[39;49;00m\u001b[43m,\u001b[49m\n\u001b[32m    354\u001b[39m \u001b[43m    \u001b[49m\u001b[43maccumulate_grad\u001b[49m\u001b[43m=\u001b[49m\u001b[38;5;28;43;01mTrue\u001b[39;49;00m\u001b[43m,\u001b[49m\n\u001b[32m    355\u001b[39m \u001b[43m\u001b[49m\u001b[43m)\u001b[49m\n",
      "\u001b[36mFile \u001b[39m\u001b[32m~/anaconda3/envs/jax/lib/python3.12/site-packages/torch/autograd/graph.py:823\u001b[39m, in \u001b[36m_engine_run_backward\u001b[39m\u001b[34m(t_outputs, *args, **kwargs)\u001b[39m\n\u001b[32m    821\u001b[39m     unregister_hooks = _register_logging_hooks_on_whole_graph(t_outputs)\n\u001b[32m    822\u001b[39m \u001b[38;5;28;01mtry\u001b[39;00m:\n\u001b[32m--> \u001b[39m\u001b[32m823\u001b[39m     \u001b[38;5;28;01mreturn\u001b[39;00m \u001b[43mVariable\u001b[49m\u001b[43m.\u001b[49m\u001b[43m_execution_engine\u001b[49m\u001b[43m.\u001b[49m\u001b[43mrun_backward\u001b[49m\u001b[43m(\u001b[49m\u001b[43m  \u001b[49m\u001b[38;5;66;43;03m# Calls into the C++ engine to run the backward pass\u001b[39;49;00m\n\u001b[32m    824\u001b[39m \u001b[43m        \u001b[49m\u001b[43mt_outputs\u001b[49m\u001b[43m,\u001b[49m\u001b[43m \u001b[49m\u001b[43m*\u001b[49m\u001b[43margs\u001b[49m\u001b[43m,\u001b[49m\u001b[43m \u001b[49m\u001b[43m*\u001b[49m\u001b[43m*\u001b[49m\u001b[43mkwargs\u001b[49m\n\u001b[32m    825\u001b[39m \u001b[43m    \u001b[49m\u001b[43m)\u001b[49m  \u001b[38;5;66;03m# Calls into the C++ engine to run the backward pass\u001b[39;00m\n\u001b[32m    826\u001b[39m \u001b[38;5;28;01mfinally\u001b[39;00m:\n\u001b[32m    827\u001b[39m     \u001b[38;5;28;01mif\u001b[39;00m attach_logging_hooks:\n",
      "\u001b[31mKeyboardInterrupt\u001b[39m: "
     ]
    }
   ],
   "source": [
    "%run -i \"TCDF-EM/runTCDF.py\" --data EM_data_norm/*.csv --plot --cuda --kernel_size 10 --dilation_coefficient 10 --significance .9 --hidden_layers=2 --epochs 20000 --optimizer RMSprop --learning_rate 0.0001"
   ]
  },
  {
   "cell_type": "markdown",
   "id": "698ce563",
   "metadata": {},
   "source": [
    "NOTE: Buono che al test sotto con Trj1_e2 i delay da Id a windin ed windout siamo pressochè gli stessi"
   ]
  },
  {
   "cell_type": "code",
   "execution_count": null,
   "id": "b792e999",
   "metadata": {},
   "outputs": [
    {
     "name": "stdout",
     "output_type": "stream",
     "text": [
      "Arguments: Namespace(cuda=True, epochs=20000, kernel_size=20, hidden_layers=2, learning_rate=0.001, optimizer='RMSprop', log_interval=500, seed=1111, dilation_coefficient=20, significance=0.85, plot=True, ground_truth=None, data=['test_norm/motor_simulation_Trj_4_e0_norm.csv'])\n",
      "\n",
      " Dataset:  motor_simulation_Trj_4_e0_norm.csv\n",
      "\n",
      " Analysis started for target:  Id_current\n",
      "Epoch:  1 [0%] \tLoss: 8.5018e-02\n",
      "Epoch: 500 [2%] \tLoss: 1.0091e-03\n",
      "Epoch: 1000 [5%] \tLoss: 3.8832e-04\n",
      "Epoch: 1500 [8%] \tLoss: 2.3906e-04\n",
      "Epoch: 2000 [10%] \tLoss: 1.5965e-04\n",
      "Epoch: 2500 [12%] \tLoss: 1.1812e-04\n",
      "Epoch: 3000 [15%] \tLoss: 9.8617e-05\n",
      "Epoch: 3500 [18%] \tLoss: 8.0946e-05\n",
      "Epoch: 4000 [20%] \tLoss: 7.4615e-05\n",
      "Epoch: 4500 [22%] \tLoss: 6.6837e-05\n",
      "Epoch: 5000 [25%] \tLoss: 5.9847e-05\n",
      "Epoch: 5500 [28%] \tLoss: 6.0612e-05\n",
      "Epoch: 6000 [30%] \tLoss: 5.3781e-05\n",
      "Epoch: 6500 [32%] \tLoss: 3.3227e-05\n",
      "Epoch: 7000 [35%] \tLoss: 4.9085e-05\n",
      "Epoch: 7500 [38%] \tLoss: 3.1333e-05\n",
      "Epoch: 8000 [40%] \tLoss: 2.2714e-05\n",
      "Epoch: 8500 [42%] \tLoss: 4.3857e-05\n",
      "Epoch: 9000 [45%] \tLoss: 3.0257e-05\n",
      "Epoch: 9500 [48%] \tLoss: 1.8870e-05\n",
      "Epoch: 10000 [50%] \tLoss: 1.8650e-05\n",
      "Epoch: 10500 [52%] \tLoss: 2.9955e-05\n",
      "Epoch: 11000 [55%] \tLoss: 1.6444e-05\n",
      "Epoch: 11500 [57%] \tLoss: 3.4820e-05\n",
      "Epoch: 12000 [60%] \tLoss: 1.7709e-05\n",
      "Epoch: 12500 [62%] \tLoss: 4.7682e-05\n",
      "Epoch: 13000 [65%] \tLoss: 4.8235e-05\n",
      "Epoch: 13500 [68%] \tLoss: 1.7384e-05\n",
      "Epoch: 14000 [70%] \tLoss: 1.3843e-05\n",
      "Epoch: 14500 [72%] \tLoss: 6.6487e-05\n",
      "Epoch: 15000 [75%] \tLoss: 4.1990e-05\n",
      "Epoch: 15500 [78%] \tLoss: 1.5287e-05\n",
      "Epoch: 16000 [80%] \tLoss: 1.7079e-05\n",
      "Epoch: 16500 [82%] \tLoss: 4.1770e-05\n",
      "Epoch: 17000 [85%] \tLoss: 1.4893e-05\n",
      "Epoch: 17500 [88%] \tLoss: 4.2061e-05\n",
      "Epoch: 18000 [90%] \tLoss: 1.5212e-05\n",
      "Epoch: 18500 [92%] \tLoss: 1.2961e-05\n",
      "Epoch: 19000 [95%] \tLoss: 3.0447e-05\n",
      "Epoch: 19500 [98%] \tLoss: 3.6876e-05\n",
      "Epoch: 20000 [100%] \tLoss: 9.2028e-06\n",
      "Scores:  [np.float32(1.568084), np.float32(1.4127887), np.float32(0.6969834), np.float32(0.6059171), np.float32(0.55125225), np.float32(0.5290952), np.float32(0.51259834), np.float32(0.4885852), np.float32(0.44190192), np.float32(0.41352588)]\n",
      "Potential causes:  [1, 0]\n",
      "Validated causes:  [1, 0]\n",
      "\n",
      " Analysis started for target:  Iq_current\n",
      "Epoch:  1 [0%] \tLoss: 4.4121e-01\n",
      "Epoch: 500 [2%] \tLoss: 1.6561e-03\n",
      "Epoch: 1000 [5%] \tLoss: 1.1309e-03\n",
      "Epoch: 1500 [8%] \tLoss: 8.9486e-04\n",
      "Epoch: 2000 [10%] \tLoss: 6.9798e-04\n",
      "Epoch: 2500 [12%] \tLoss: 5.4531e-04\n",
      "Epoch: 3000 [15%] \tLoss: 4.7614e-04\n",
      "Epoch: 3500 [18%] \tLoss: 4.2517e-04\n",
      "Epoch: 4000 [20%] \tLoss: 3.6646e-04\n",
      "Epoch: 4500 [22%] \tLoss: 3.2841e-04\n",
      "Epoch: 5000 [25%] \tLoss: 3.1202e-04\n"
     ]
    }
   ],
   "source": [
    "%run -i \"TCDF-EM/runTCDF.py\" --data test_norm/motor_simulation_Trj_4_e0_norm.csv --plot --cuda --kernel_size 20 --dilation_coefficient 20 --significance .85 --hidden_layers=2 --epochs 20000 --optimizer RMSprop --learning_rate 0.001"
   ]
  },
  {
   "cell_type": "code",
   "execution_count": null,
   "id": "871177ab",
   "metadata": {},
   "outputs": [],
   "source": []
  }
 ],
 "metadata": {
  "kernelspec": {
   "display_name": "jax",
   "language": "python",
   "name": "python3"
  },
  "language_info": {
   "codemirror_mode": {
    "name": "ipython",
    "version": 3
   },
   "file_extension": ".py",
   "mimetype": "text/x-python",
   "name": "python",
   "nbconvert_exporter": "python",
   "pygments_lexer": "ipython3",
   "version": "3.12.3"
  }
 },
 "nbformat": 4,
 "nbformat_minor": 5
}
