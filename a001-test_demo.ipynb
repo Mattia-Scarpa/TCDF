{
 "cells": [
  {
   "cell_type": "markdown",
   "id": "33e385d2",
   "metadata": {},
   "source": [
    "### Test with normalized dataset"
   ]
  },
  {
   "cell_type": "code",
   "execution_count": 1,
   "id": "c0f071af",
   "metadata": {},
   "outputs": [],
   "source": [
    "#%run -i \"TCDF-EM/runTCDF.py\" --data EM_data_norm/*.csv --plot --cuda --kernel_size 10 --dilation_coefficient 10 --significance .9 --hidden_layers=2 --epochs 20000 --optimizer RMSprop --learning_rate 0.0001"
   ]
  },
  {
   "cell_type": "markdown",
   "id": "698ce563",
   "metadata": {},
   "source": [
    "NOTE: Buono che al test sotto con Trj1_e2 i delay da Id a windin ed windout siamo pressochè gli stessi\n",
    "\n",
    "- 0 - Id_current,\n",
    "- 1 - Iq_current,\n",
    "- 2 - speed_rpm,\n",
    "- 3 - voltage, \n",
    "- 4 - Tmagout_real,\n",
    "- 5 - Tmagin_real,\n",
    "- 6 - Twindoutlet_real,\n",
    "- 7 - Twindinlet_real,\n",
    "- 8 - Twinding_real,\n",
    "- 9 - TPM_real,"
   ]
  },
  {
   "cell_type": "code",
   "execution_count": null,
   "id": "b792e999",
   "metadata": {},
   "outputs": [
    {
     "name": "stdout",
     "output_type": "stream",
     "text": [
      "Arguments: Namespace(cuda=True, epochs=50000, kernel_size=250, hidden_layers=0, learning_rate=0.001, optimizer='Adam', log_interval=500, seed=1111, dilation_coefficient=250, significance=0.9, plot=True, ground_truth=None, data=['test_norm/motor_simulation_Trj_4_e3_norm.csv'])\n",
      "\n",
      " Dataset:  motor_simulation_Trj_4_e3_norm.csv\n",
      "\n",
      " Analysis started for target:  Id_current\n",
      "Epoch:  1 [0%] \tLoss: 1.1426e-01 - \tLambda: 9.9990e-07\n",
      "Get sparsity stats:  {'mean_attention': 0.7310191988945007, 'near_zero': 0, 'active': 10, 'active_idx': array([0, 1, 2, 3, 4, 5, 6, 7, 8, 9]), 'sparsity_ratio': 0.0}\n",
      "Epoch: 500 [1%] \tLoss: 1.1338e-03 - \tLambda: 9.5123e-07\n",
      "Get sparsity stats:  {'mean_attention': 0.7318150401115417, 'near_zero': 0, 'active': 10, 'active_idx': array([0, 1, 2, 3, 4, 5, 6, 7, 8, 9]), 'sparsity_ratio': 0.0}\n",
      "Epoch: 1000 [2%] \tLoss: 5.3154e-04 - \tLambda: 9.0483e-07\n",
      "Get sparsity stats:  {'mean_attention': 0.7333802580833435, 'near_zero': 0, 'active': 10, 'active_idx': array([0, 1, 2, 3, 4, 5, 6, 7, 8, 9]), 'sparsity_ratio': 0.0}\n",
      "Epoch: 1500 [3%] \tLoss: 2.9024e-04 - \tLambda: 8.6070e-07\n",
      "Get sparsity stats:  {'mean_attention': 0.7346698641777039, 'near_zero': 0, 'active': 10, 'active_idx': array([0, 1, 2, 3, 4, 5, 6, 7, 8, 9]), 'sparsity_ratio': 0.0}\n",
      "Epoch: 2000 [4%] \tLoss: 1.9682e-04 - \tLambda: 8.1872e-07\n",
      "Get sparsity stats:  {'mean_attention': 0.7363154292106628, 'near_zero': 0, 'active': 10, 'active_idx': array([0, 1, 2, 3, 4, 5, 6, 7, 8, 9]), 'sparsity_ratio': 0.0}\n",
      "Epoch: 2500 [5%] \tLoss: 1.4703e-04 - \tLambda: 7.7879e-07\n",
      "Get sparsity stats:  {'mean_attention': 0.7372892498970032, 'near_zero': 0, 'active': 10, 'active_idx': array([0, 1, 2, 3, 4, 5, 6, 7, 8, 9]), 'sparsity_ratio': 0.0}\n",
      "Epoch: 3000 [6%] \tLoss: 1.2009e-04 - \tLambda: 7.4081e-07\n",
      "Get sparsity stats:  {'mean_attention': 0.737125039100647, 'near_zero': 0, 'active': 10, 'active_idx': array([0, 1, 2, 3, 4, 5, 6, 7, 8, 9]), 'sparsity_ratio': 0.0}\n",
      "Epoch: 3500 [7%] \tLoss: 1.0697e-04 - \tLambda: 7.0468e-07\n",
      "Get sparsity stats:  {'mean_attention': 0.7362684011459351, 'near_zero': 0, 'active': 10, 'active_idx': array([0, 1, 2, 3, 4, 5, 6, 7, 8, 9]), 'sparsity_ratio': 0.0}\n",
      "Epoch: 4000 [8%] \tLoss: 9.5512e-05 - \tLambda: 6.7031e-07\n",
      "Get sparsity stats:  {'mean_attention': 0.7352022528648376, 'near_zero': 0, 'active': 10, 'active_idx': array([0, 1, 2, 3, 4, 5, 6, 7, 8, 9]), 'sparsity_ratio': 0.0}\n"
     ]
    }
   ],
   "source": [
    "%run -i \"TCDF-EM/runTCDF.py\" --data test_norm/motor_simulation_Trj_4_e3_norm.csv --plot --cuda --kernel_size 250 --dilation_coefficient 250 --significance .9 --hidden_layers=0 --epochs 50000 --optimizer Adam --learning_rate 0.001"
   ]
  },
  {
   "cell_type": "code",
   "execution_count": null,
   "id": "3dd8aaf8",
   "metadata": {},
   "outputs": [],
   "source": []
  }
 ],
 "metadata": {
  "kernelspec": {
   "display_name": "jax",
   "language": "python",
   "name": "python3"
  },
  "language_info": {
   "codemirror_mode": {
    "name": "ipython",
    "version": 3
   },
   "file_extension": ".py",
   "mimetype": "text/x-python",
   "name": "python",
   "nbconvert_exporter": "python",
   "pygments_lexer": "ipython3",
   "version": "3.12.3"
  }
 },
 "nbformat": 4,
 "nbformat_minor": 5
}
